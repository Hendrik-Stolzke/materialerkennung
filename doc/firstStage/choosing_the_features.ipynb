{
 "cells": [
  {
   "cell_type": "markdown",
   "metadata": {},
   "source": [
    "# Features"
   ]
  },
  {
   "cell_type": "markdown",
   "metadata": {},
   "source": [
    "## Features extracted with ComprehensiveFCPrameters (576 Features)"
   ]
  },
  {
   "cell_type": "markdown",
   "metadata": {},
   "source": [
    "#### Count after auto selection: \n",
    "- forward selection: 246\n",
    "- backward elimination: 246 \n",
    "- tsfresh: 62\n",
    "\n",
    "#### Count after 10 features selection:\n",
    "Picked ten best features with forward selection, backward elimination and tsfresh"
   ]
  },
  {
   "cell_type": "markdown",
   "metadata": {},
   "source": [
    "#### Limitation of selected features:\n",
    "The question of the risk of overfitting our model due to the high number of features compared to the observations was raised. To counteract this risk, the rule of thumb that the number of observations should be at least 5 to 10 times greater than the number of features was taken into account. Therefore, the number of features was limited to 10.\n",
    "Based on this decision, the features selected using the ComprehensiveFCParameters and the 'auto' parameter were limited to the ten best, and the rest were discarded. \n"
   ]
  },
  {
   "cell_type": "markdown",
   "metadata": {},
   "source": [
    "## Features extracted with MinimalFCParameters (30 Features)"
   ]
  },
  {
   "cell_type": "markdown",
   "metadata": {},
   "source": [
    "#### Count after auto selection: \n",
    "- forward selection: 13\n",
    "- backward elimination: 14 \n",
    "- tsfresh: 10\n",
    "\n",
    "#### Count after 10 features selection:\n",
    "Picked ten best features with forward selection, backward elimination and tsfresh"
   ]
  },
  {
   "cell_type": "markdown",
   "metadata": {},
   "source": [
    "#### Limitation of selected features:\n"
   ]
  },
  {
   "cell_type": "markdown",
   "metadata": {},
   "source": [
    "Due to the not very large number of features that were selected using the MinimalFCParameters and the 'auto' parameter, the number of features with 13 (forward selection) and 14 (backward elimination) features was retained for analysis, but the best ten were also selected to ensure a proper comparison between the feature selection methods. In addition, the best ten features were selected to allow a thorough comparison between the different feature selection methods. When using the tsfresh method, ten features were initially selected without further restrictions. Later, all 30 features were manually reviewed and the top ten were selected based on the p-values. Upon further investigation, it was found that the ten features selected by tsfresh were already 100% identical to the manually selected ones."
   ]
  },
  {
   "cell_type": "markdown",
   "metadata": {},
   "source": [
    "#### Delimitation of features selected with forward selection and backward elimination\n",
    "After a further examination of the features, which were extracted using the MinimalFCParameters and reduced to 13/14 or additionally to the ten best by forward/backward selection, it follows from the plots of the test performed on training data that several/half a dozen features selected with the 'auto' parameter are also to be found in the top ten of the selected features.\n",
    "As a result, the selection of features falls on the top ten best, since the classification on the training data with the 5-fold cross-validation was just as successful as that with the full selected set (13/14) features. In addition, we noticed that the features related to 'audio' are rather irrelevant and do not bring any advantage to the models.\n",
    "\n",
    "-----------------------------------------------------------------------\n",
    "Features die wir bis jetzt betrachten:\n",
    "\n",
    "- 10-forward-comprehensive&minimal\n",
    "- 10-backward-comprehensive&minimal\n",
    "- 10-tsfresh-comprehensive&minimal\n",
    "\n",
    "-> weitere Auswahl folgt..."
   ]
  }
 ],
 "metadata": {
  "language_info": {
   "name": "python"
  }
 },
 "nbformat": 4,
 "nbformat_minor": 2
}
