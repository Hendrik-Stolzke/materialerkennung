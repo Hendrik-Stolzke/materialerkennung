{
 "cells": [
  {
   "cell_type": "code",
   "execution_count": 1,
   "metadata": {},
   "outputs": [],
   "source": [
    "import pandas as pd               \n",
    "import glob"
   ]
  },
  {
   "cell_type": "code",
   "execution_count": 3,
   "metadata": {},
   "outputs": [
    {
     "data": {
      "text/html": [
       "<div>\n",
       "<style scoped>\n",
       "    .dataframe tbody tr th:only-of-type {\n",
       "        vertical-align: middle;\n",
       "    }\n",
       "\n",
       "    .dataframe tbody tr th {\n",
       "        vertical-align: top;\n",
       "    }\n",
       "\n",
       "    .dataframe thead th {\n",
       "        text-align: right;\n",
       "    }\n",
       "</style>\n",
       "<table border=\"1\" class=\"dataframe\">\n",
       "  <thead>\n",
       "    <tr style=\"text-align: right;\">\n",
       "      <th></th>\n",
       "    </tr>\n",
       "  </thead>\n",
       "  <tbody>\n",
       "  </tbody>\n",
       "</table>\n",
       "</div>"
      ],
      "text/plain": [
       "Empty DataFrame\n",
       "Columns: []\n",
       "Index: []"
      ]
     },
     "execution_count": 3,
     "metadata": {},
     "output_type": "execute_result"
    }
   ],
   "source": [
    "def split_data(splits):\n",
    "    # muss noch den pfad angeben bzw gucken wie man des macht\n",
    "    csv_files = glob.glob('*.{}'.format('csv'))\n",
    "    df = pd.DataFrame()\n",
    "    \n",
    "    id = 0\n",
    "    for file in csv_files:\n",
    "        data = pd.read_csv(file)\n",
    "        length = len(data)\n",
    "        for i in range(splits):    \n",
    "            if i <= splits-2:\n",
    "                if i > 0: \n",
    "                    input = data.iloc[int(length * ((i+1) / splits - (1/splits)) + 1) : int(length * ((i+1)/splits)), :]\n",
    "                else:\n",
    "                    input = data.iloc[ : int(length * (i+1)/splits), : ]\n",
    "            else:\n",
    "                input = data.iloc[int(length * (((i+1) / splits) - (1 / splits))) + 1: length, : ]\n",
    "            \n",
    "            input.loc[:, 'id'] = id\n",
    "            id += 1\n",
    "            df = pd.concat([df, input], ignore_index=True)\n",
    "\n",
    "    return df\n",
    "            \n",
    "# Check\n",
    "# split_data(5)"
   ]
  },
  {
   "cell_type": "code",
   "execution_count": null,
   "metadata": {},
   "outputs": [],
   "source": []
  }
 ],
 "metadata": {
  "kernelspec": {
   "display_name": "base",
   "language": "python",
   "name": "python3"
  },
  "language_info": {
   "codemirror_mode": {
    "name": "ipython",
    "version": 3
   },
   "file_extension": ".py",
   "mimetype": "text/x-python",
   "name": "python",
   "nbconvert_exporter": "python",
   "pygments_lexer": "ipython3",
   "version": "3.10.9"
  }
 },
 "nbformat": 4,
 "nbformat_minor": 2
}
