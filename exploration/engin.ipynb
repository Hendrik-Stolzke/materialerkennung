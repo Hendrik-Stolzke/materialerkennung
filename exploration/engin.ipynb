{
 "cells": [
  {
   "cell_type": "code",
   "execution_count": 7,
   "metadata": {},
   "outputs": [],
   "source": [
    "import pandas as pd    \n",
    "from pandas import DataFrame            \n",
    "import glob\n",
    "from tsfresh.feature_extraction import extract_features, MinimalFCParameters\n",
    "from tsfresh.feature_selection import select_features"
   ]
  },
  {
   "cell_type": "code",
   "execution_count": 11,
   "metadata": {},
   "outputs": [],
   "source": [
    "def prepare_data():\n",
    "\n",
    "    # Step 1: list all csv files only\n",
    "    csv_files = glob.glob('*.{}'.format('csv'))\n",
    "    df = pd.DataFrame(columns=['Audio', 'Voltage', 'Current','id'])\n",
    "\n",
    "    for i in csv_files:\n",
    "        file = csv_files[i]\n",
    "        data = pd.read_csv(file)\n",
    "        # print(file)\n",
    "        l = [[],[],[],[]] \n",
    "        file[i] = l\n",
    "        l[0] = data[0:len(data) * 0.25]\n",
    "        l[1] = data[len(data) * 0.25 + 1 : len(data) * 0.5]\n",
    "        l[2] = data[len(data) * 0.5 + 1 : len(data) * 0.75]\n",
    "        l[3] = data[len(data) * 0.75 + 1 :  len(data)]\n",
    "    \n",
    "        pd.concat(df, l)\n",
    "\n",
    "    id = 0\n",
    "    for row in df:\n",
    "        df['id'] = id\n",
    "        id += 1\n",
    "\n",
    "# Check\n",
    "prepare_data()"
   ]
  },
  {
   "cell_type": "code",
   "execution_count": 5,
   "metadata": {},
   "outputs": [],
   "source": [
    "# result = prepare_data()\n",
    "\n",
    "# def feature_extraction(df: DataFrame):\n",
    "#     extraction_settings = MinimalFCParameters()\n",
    "#     extracted_features = extract_features(df, column_id = 'id', default_fc_parameters=extraction_settings)\n",
    "#     return extracted_features\n",
    "\n",
    "# # Check\n",
    "# # feature_extraction(result[0])"
   ]
  },
  {
   "cell_type": "code",
   "execution_count": 6,
   "metadata": {},
   "outputs": [],
   "source": [
    "# def select_feat():\n",
    "#     x_selected = select_features(feature_extraction(result[0]), result[1])\n",
    "#     return x_selected\n",
    "\n",
    "# # Check\n",
    "# # select_feat()"
   ]
  },
  {
   "cell_type": "code",
   "execution_count": null,
   "metadata": {},
   "outputs": [],
   "source": []
  }
 ],
 "metadata": {
  "kernelspec": {
   "display_name": "base",
   "language": "python",
   "name": "python3"
  },
  "language_info": {
   "codemirror_mode": {
    "name": "ipython",
    "version": 3
   },
   "file_extension": ".py",
   "mimetype": "text/x-python",
   "name": "python",
   "nbconvert_exporter": "python",
   "pygments_lexer": "ipython3",
   "version": "3.10.9"
  }
 },
 "nbformat": 4,
 "nbformat_minor": 2
}
