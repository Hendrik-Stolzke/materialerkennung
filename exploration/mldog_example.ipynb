{
 "cells": [
  {
   "cell_type": "markdown",
   "metadata": {},
   "source": [
    "# Example Workbook Using the *mldog* Library"
   ]
  },
  {
   "cell_type": "markdown",
   "metadata": {},
   "source": [
    "## General Set Up"
   ]
  },
  {
   "cell_type": "code",
   "execution_count": null,
   "metadata": {},
   "outputs": [],
   "source": [
    "# Automatically reload external modules (see https://ipython.org/ipython-doc/3/config/extensions/autoreload.html for more information).\n",
    "%load_ext autoreload\n",
    "%autoreload 2\n",
    "\n",
    "# Set up system path to include our own \"mldog\" python package.\n",
    "import sys\n",
    "sys.path.append('../src')"
   ]
  },
  {
   "cell_type": "markdown",
   "metadata": {},
   "source": [
    "## Import Packages / Modules"
   ]
  },
  {
   "cell_type": "code",
   "execution_count": null,
   "metadata": {},
   "outputs": [],
   "source": [
    "# general imports\n",
    "import os\n",
    "import numpy as np\n",
    "import pandas as pd\n",
    "\n",
    "# our own library\n",
    "import mldog as dog\n",
    "\n",
    "# plotting\n",
    "import matplotlib.pyplot as plt\n",
    "import plotly_express as px"
   ]
  },
  {
   "cell_type": "markdown",
   "metadata": {},
   "source": [
    "## Loading Data"
   ]
  },
  {
   "cell_type": "code",
   "execution_count": null,
   "metadata": {},
   "outputs": [],
   "source": [
    "data_base_path = '../data'\n",
    "recording_path = 'raw/testdata'\n",
    "data_file = '2022_10_10_14-21-41_96000Hz.csv'\n",
    "\n",
    "data = dog.read_measurement_csv(os.path.join(data_base_path, recording_path, data_file))"
   ]
  },
  {
   "cell_type": "markdown",
   "metadata": {},
   "source": [
    "## Inspecting Data"
   ]
  },
  {
   "cell_type": "code",
   "execution_count": null,
   "metadata": {},
   "outputs": [],
   "source": [
    "data.head()"
   ]
  },
  {
   "cell_type": "markdown",
   "metadata": {},
   "source": [
    "## Plotting Data"
   ]
  },
  {
   "cell_type": "code",
   "execution_count": null,
   "metadata": {},
   "outputs": [],
   "source": [
    "# select data to plot\n",
    "# plot_data = data[0::20] # HACK: Variant 1: Only for demonstration purposes: Speed up plotting by only plotting every nth entry.\n",
    "plot_data = data[-300000:-150000] # HACK: Variant 2: Only plot relevant interval."
   ]
  },
  {
   "cell_type": "code",
   "execution_count": null,
   "metadata": {},
   "outputs": [],
   "source": [
    "# static plot using matplotlib\n",
    "fig, ax = plt.subplots(figsize=(21,6))\n",
    "ax.plot(plot_data.Time, plot_data.Voltage, label='Voltage')\n",
    "ax.plot(plot_data.Time, plot_data.Current, label='Current')\n",
    "ax.plot(plot_data.Time, plot_data.Audio, label='Audio')\n",
    "ax.legend()"
   ]
  },
  {
   "cell_type": "code",
   "execution_count": null,
   "metadata": {},
   "outputs": [],
   "source": [
    "# interactive plot using plotly express\n",
    "px.line(plot_data, x='Time', y=['Audio', 'Voltage', 'Current'])"
   ]
  }
 ],
 "metadata": {
  "kernelspec": {
   "display_name": "Python 3.9.13 ('aki')",
   "language": "python",
   "name": "python3"
  },
  "language_info": {
   "codemirror_mode": {
    "name": "ipython",
    "version": 3
   },
   "file_extension": ".py",
   "mimetype": "text/x-python",
   "name": "python",
   "nbconvert_exporter": "python",
   "pygments_lexer": "ipython3",
   "version": "3.11.5"
  },
  "orig_nbformat": 4,
  "vscode": {
   "interpreter": {
    "hash": "275dcf089cc38c8987de85a69a223f8c0702f39d75c8d19cc3305a93368f6b0e"
   }
  }
 },
 "nbformat": 4,
 "nbformat_minor": 2
}
